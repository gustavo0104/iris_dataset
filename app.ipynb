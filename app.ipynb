{
 "cells": [
  {
   "cell_type": "code",
   "execution_count": null,
   "id": "65de2b2e-1ccd-4448-bd42-a927f4b946bf",
   "metadata": {},
   "outputs": [
    {
     "name": "stdout",
     "output_type": "stream",
     "text": [
      " * Serving Flask app \"__main__\" (lazy loading)\n",
      " * Environment: production\n",
      "   WARNING: This is a development server. Do not use it in a production deployment.\n",
      "   Use a production WSGI server instead.\n",
      " * Debug mode: off\n"
     ]
    },
    {
     "name": "stderr",
     "output_type": "stream",
     "text": [
      " * Running on http://127.0.0.1:5000/ (Press CTRL+C to quit)\n",
      "127.0.0.1 - - [14/Dec/2021 12:45:27] \"\u001b[37mGET / HTTP/1.1\u001b[0m\" 200 -\n",
      "127.0.0.1 - - [14/Dec/2021 12:45:28] \"\u001b[33mGET /favicon.ico HTTP/1.1\u001b[0m\" 404 -\n",
      "127.0.0.1 - - [14/Dec/2021 12:45:34] \"\u001b[31m\u001b[1mGET /%20predict?Sepal_Length=0&Sepal_Width=0&Petal_Length=0&Petal_Width=0 HTTP/1.1\u001b[0m\" 405 -\n",
      "127.0.0.1 - - [14/Dec/2021 12:45:47] \"\u001b[31m\u001b[1mGET /%20predict?Sepal_Length=1&Sepal_Width=3&Petal_Length=3&Petal_Width=4 HTTP/1.1\u001b[0m\" 405 -\n"
     ]
    }
   ],
   "source": [
    "import numpy as np\n",
    "from flask import Flask, render_template, request, jsonify\n",
    "import pickle\n",
    "\n",
    "#create flask app\n",
    "app = Flask(__name__)\n",
    "\n",
    "#load the picke model\n",
    "model = pickle.load(open(\"model.pkl\",\"rb\"))\n",
    "\n",
    "\n",
    "@app .route (\"/\") \n",
    "def home (): \n",
    "    return render_template (\"index.html\")\n",
    "\n",
    "@app .route (\"/ iris\") \n",
    "def iris (): \n",
    "    return render_template ('iris.html')\n",
    "\n",
    "@app .route ('/ predict', methods = ['POST']) \n",
    "def predict (): \n",
    "    float_features = [float(x) for x in request.form.values()]\n",
    "    features = [np.array(float_features)]\n",
    "    prediction = model.predict(features)\n",
    "\n",
    "    return render_template (\"index.html\", prediction_text = 'The flower species is {}'.format(prediction)) \n",
    "       \n",
    "if __name__ == \"__main__\": \n",
    "    app.run(debug=False)"
   ]
  }
 ],
 "metadata": {
  "kernelspec": {
   "display_name": "Python 3",
   "language": "python",
   "name": "python3"
  },
  "language_info": {
   "codemirror_mode": {
    "name": "ipython",
    "version": 3
   },
   "file_extension": ".py",
   "mimetype": "text/x-python",
   "name": "python",
   "nbconvert_exporter": "python",
   "pygments_lexer": "ipython3",
   "version": "3.8.8"
  }
 },
 "nbformat": 4,
 "nbformat_minor": 5
}
